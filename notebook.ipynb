{
 "cells": [
  {
   "cell_type": "markdown",
   "id": "cdd466f9-a72a-44df-9e00-6926a97a4923",
   "metadata": {},
   "source": [
    "![Cartoon of telecom customers](IMG_8811.png)\n"
   ]
  },
  {
   "cell_type": "markdown",
   "id": "dafa483a-e084-4ba8-9236-5c0468364e0d",
   "metadata": {},
   "source": [
    "The telecommunications (telecom) sector in India is rapidly changing, with more and more telecom businesses being created and many customers deciding to switch between providers. \"Churn\" refers to the process where customers or subscribers stop using a company's services or products. Understanding the factors that influence keeping a customer as a client in predicting churn is crucial for telecom companies to enhance their service quality and customer satisfaction. As the data scientist on this project, you aim to explore the intricate dynamics of customer behavior and demographics in the Indian telecom sector in predicting customer churn, utilizing two comprehensive datasets from four major telecom partners: Airtel, Reliance Jio, Vodafone, and BSNL:\n",
    "\n",
    "- `telecom_demographics.csv` contains information related to Indian customer demographics:\n",
    "\n",
    "| Variable             | Description                                      |\n",
    "|----------------------|--------------------------------------------------|\n",
    "| `customer_id `         | Unique identifier for each customer.             |\n",
    "| `telecom_partner `     | The telecom partner associated with the customer.|\n",
    "| `gender `              | The gender of the customer.                      |\n",
    "| `age `                 | The age of the customer.                         |\n",
    "| `state`                | The Indian state in which the customer is located.|\n",
    "| `city`                 | The city in which the customer is located.       |\n",
    "| `pincode`              | The pincode of the customer's location.          |\n",
    "| `registration_event` | When the customer registered with the telecom partner.|\n",
    "| `num_dependents`      | The number of dependents (e.g., children) the customer has.|\n",
    "| `estimated_salary`     | The customer's estimated salary.                 |\n",
    "\n",
    "- `telecom_usage` contains information about the usage patterns of Indian customers:\n",
    "\n",
    "| Variable   | Description                                                  |\n",
    "|------------|--------------------------------------------------------------|\n",
    "| `customer_id` | Unique identifier for each customer.                         |\n",
    "| `calls_made` | The number of calls made by the customer.                    |\n",
    "| `sms_sent`   | The number of SMS messages sent by the customer.             |\n",
    "| `data_used`  | The amount of data used by the customer.                     |\n",
    "| `churn`    | Binary variable indicating whether the customer has churned or not (1 = churned, 0 = not churned).|\n"
   ]
  },
  {
   "cell_type": "code",
   "execution_count": 2,
   "id": "95efd3c7-a48a-49c2-9df6-36f078de3b38",
   "metadata": {
    "executionCancelledAt": null,
    "executionTime": 9,
    "lastExecutedAt": 1699920392111,
    "lastScheduledRunId": null,
    "lastSuccessfullyExecutedCode": "# Import required libraries and methods/functions\nimport pandas as pd\nfrom sklearn.preprocessing import StandardScaler\nfrom sklearn.model_selection import train_test_split\nfrom sklearn.linear_model import RidgeClassifier\nfrom sklearn.ensemble import RandomForestClassifier\nfrom sklearn.metrics import classification_report, confusion_matrix\n\n# Start your code here!"
   },
   "outputs": [],
   "source": [
    "# Importing libraries and methods/functions\n",
    "import pandas as pd\n",
    "from sklearn.preprocessing import StandardScaler, OneHotEncoder \n",
    "from sklearn.model_selection import train_test_split\n",
    "from sklearn.linear_model import RidgeClassifier\n",
    "from sklearn.ensemble import RandomForestClassifier\n",
    "from sklearn.metrics import classification_report, confusion_matrix"
   ]
  },
  {
   "cell_type": "code",
   "execution_count": 3,
   "id": "1f03a985",
   "metadata": {},
   "outputs": [
    {
     "name": "stdout",
     "output_type": "stream",
     "text": [
      "   customer_id telecom_partner gender  age             state       city  \\\n",
      "0        15169          Airtel      F   26  Himachal Pradesh      Delhi   \n",
      "1       149207          Airtel      F   74       Uttarakhand  Hyderabad   \n",
      "2       148119          Airtel      F   54         Jharkhand    Chennai   \n",
      "3       187288    Reliance Jio      M   29             Bihar  Hyderabad   \n",
      "4        14016        Vodafone      M   45          Nagaland  Bangalore   \n",
      "\n",
      "   pincode registration_event  num_dependents  estimated_salary  \n",
      "0   667173         2020-03-16               4             85979  \n",
      "1   313997         2022-01-16               0             69445  \n",
      "2   549925         2022-01-11               2             75949  \n",
      "3   230636         2022-07-26               3             34272  \n",
      "4   188036         2020-03-11               4             34157  \n"
     ]
    }
   ],
   "source": [
    "telecom_demo = pd.read_csv('telecom_demographics.csv')\n",
    "print(telecom_demo.head())"
   ]
  },
  {
   "cell_type": "code",
   "execution_count": 4,
   "id": "3bb0fd61",
   "metadata": {},
   "outputs": [
    {
     "name": "stdout",
     "output_type": "stream",
     "text": [
      "<class 'pandas.core.frame.DataFrame'>\n",
      "RangeIndex: 6500 entries, 0 to 6499\n",
      "Data columns (total 10 columns):\n",
      " #   Column              Non-Null Count  Dtype \n",
      "---  ------              --------------  ----- \n",
      " 0   customer_id         6500 non-null   int64 \n",
      " 1   telecom_partner     6500 non-null   object\n",
      " 2   gender              6500 non-null   object\n",
      " 3   age                 6500 non-null   int64 \n",
      " 4   state               6500 non-null   object\n",
      " 5   city                6500 non-null   object\n",
      " 6   pincode             6500 non-null   int64 \n",
      " 7   registration_event  6500 non-null   object\n",
      " 8   num_dependents      6500 non-null   int64 \n",
      " 9   estimated_salary    6500 non-null   int64 \n",
      "dtypes: int64(5), object(5)\n",
      "memory usage: 507.9+ KB\n"
     ]
    }
   ],
   "source": [
    "telecom_demo.info()"
   ]
  },
  {
   "cell_type": "code",
   "execution_count": 5,
   "id": "837331a0",
   "metadata": {},
   "outputs": [
    {
     "name": "stdout",
     "output_type": "stream",
     "text": [
      "   customer_id  calls_made  sms_sent  data_used  churn\n",
      "0        15169          75        21       4532      1\n",
      "1       149207          35        38        723      1\n",
      "2       148119          70        47       4688      1\n",
      "3       187288          95        32      10241      1\n",
      "4        14016          66        23       5246      1\n"
     ]
    }
   ],
   "source": [
    "telecom_usage = pd.read_csv('telecom_usage.csv')\n",
    "print(telecom_usage.head())"
   ]
  },
  {
   "cell_type": "code",
   "execution_count": 6,
   "id": "9ca362de",
   "metadata": {},
   "outputs": [
    {
     "name": "stdout",
     "output_type": "stream",
     "text": [
      "<class 'pandas.core.frame.DataFrame'>\n",
      "RangeIndex: 6500 entries, 0 to 6499\n",
      "Data columns (total 5 columns):\n",
      " #   Column       Non-Null Count  Dtype\n",
      "---  ------       --------------  -----\n",
      " 0   customer_id  6500 non-null   int64\n",
      " 1   calls_made   6500 non-null   int64\n",
      " 2   sms_sent     6500 non-null   int64\n",
      " 3   data_used    6500 non-null   int64\n",
      " 4   churn        6500 non-null   int64\n",
      "dtypes: int64(5)\n",
      "memory usage: 254.0 KB\n"
     ]
    }
   ],
   "source": [
    "telecom_usage.info()"
   ]
  },
  {
   "cell_type": "code",
   "execution_count": 7,
   "id": "7100f428",
   "metadata": {},
   "outputs": [
    {
     "name": "stdout",
     "output_type": "stream",
     "text": [
      "   customer_id telecom_partner gender  age             state       city  \\\n",
      "0        15169          Airtel      F   26  Himachal Pradesh      Delhi   \n",
      "1       149207          Airtel      F   74       Uttarakhand  Hyderabad   \n",
      "2       148119          Airtel      F   54         Jharkhand    Chennai   \n",
      "3       187288    Reliance Jio      M   29             Bihar  Hyderabad   \n",
      "4        14016        Vodafone      M   45          Nagaland  Bangalore   \n",
      "\n",
      "   pincode registration_event  num_dependents  estimated_salary  calls_made  \\\n",
      "0   667173         2020-03-16               4             85979          75   \n",
      "1   313997         2022-01-16               0             69445          35   \n",
      "2   549925         2022-01-11               2             75949          70   \n",
      "3   230636         2022-07-26               3             34272          95   \n",
      "4   188036         2020-03-11               4             34157          66   \n",
      "\n",
      "   sms_sent  data_used  churn  \n",
      "0        21       4532      1  \n",
      "1        38        723      1  \n",
      "2        47       4688      1  \n",
      "3        32      10241      1  \n",
      "4        23       5246      1  \n"
     ]
    }
   ],
   "source": [
    "churn_df = pd.merge(telecom_demo, telecom_usage, on='customer_id')\n",
    "print(churn_df.head())"
   ]
  },
  {
   "cell_type": "code",
   "execution_count": null,
   "id": "783fa19c",
   "metadata": {},
   "outputs": [
    {
     "data": {
      "text/plain": [
       "count      6500.000000\n",
       "mean      85529.193385\n",
       "std       37545.639180\n",
       "min       20001.000000\n",
       "25%       52905.000000\n",
       "50%       85286.500000\n",
       "75%      118817.500000\n",
       "max      149977.000000\n",
       "Name: estimated_salary, dtype: float64"
      ]
     },
     "execution_count": 9,
     "metadata": {},
     "output_type": "execute_result"
    }
   ],
   "source": [
    "# Handling estimated salary column\n",
    "churn_df['estimated_salary'].describe()"
   ]
  },
  {
   "cell_type": "code",
   "execution_count": 11,
   "id": "25d5cdd3",
   "metadata": {},
   "outputs": [],
   "source": [
    "# grouping estimated salary into bins\n",
    "bins = [0, 30000, 60000, 90000, 120000, 150000]\n",
    "labels = ['Very Low', 'Low', 'Medium', 'High', 'Very High']\n",
    "\n",
    "# Grouping estimated salary into categories\n",
    "churn_df['salary_group'] = pd.cut(churn_df['estimated_salary'], bins=bins, labels=labels)"
   ]
  },
  {
   "cell_type": "code",
   "execution_count": 14,
   "id": "ba6afc91",
   "metadata": {},
   "outputs": [
    {
     "data": {
      "text/plain": [
       "salary_group\n",
       "Very Low      462\n",
       "Low          1516\n",
       "Medium       1519\n",
       "High         1446\n",
       "Very High    1557\n",
       "Name: count, dtype: int64"
      ]
     },
     "execution_count": 14,
     "metadata": {},
     "output_type": "execute_result"
    }
   ],
   "source": [
    "churn_df['salary_group'].value_counts().sort_index()"
   ]
  },
  {
   "cell_type": "code",
   "execution_count": 9,
   "id": "91009edd",
   "metadata": {},
   "outputs": [
    {
     "name": "stdout",
     "output_type": "stream",
     "text": [
      "The Churn Rate is 20.0%\n"
     ]
    }
   ],
   "source": [
    "# Determining Churn Rate\n",
    "churn_rate = round(churn_df['churn'].value_counts(normalize=True) * 100, 1)\n",
    "print(f\"The Churn Rate is {churn_rate[1]:.1f}%\")"
   ]
  },
  {
   "cell_type": "code",
   "execution_count": 10,
   "id": "b83e77c2",
   "metadata": {},
   "outputs": [
    {
     "name": "stdout",
     "output_type": "stream",
     "text": [
      "<class 'pandas.core.frame.DataFrame'>\n",
      "RangeIndex: 6500 entries, 0 to 6499\n",
      "Data columns (total 14 columns):\n",
      " #   Column              Non-Null Count  Dtype   \n",
      "---  ------              --------------  -----   \n",
      " 0   customer_id         6500 non-null   int64   \n",
      " 1   telecom_partner     6500 non-null   category\n",
      " 2   gender              6500 non-null   category\n",
      " 3   age                 6500 non-null   int64   \n",
      " 4   state               6500 non-null   category\n",
      " 5   city                6500 non-null   category\n",
      " 6   pincode             6500 non-null   int64   \n",
      " 7   registration_event  6500 non-null   object  \n",
      " 8   num_dependents      6500 non-null   int64   \n",
      " 9   estimated_salary    6500 non-null   int64   \n",
      " 10  calls_made          6500 non-null   int64   \n",
      " 11  sms_sent            6500 non-null   int64   \n",
      " 12  data_used           6500 non-null   int64   \n",
      " 13  churn               6500 non-null   int64   \n",
      "dtypes: category(4), int64(9), object(1)\n",
      "memory usage: 535.1+ KB\n"
     ]
    }
   ],
   "source": [
    "# Identifying categorical variables\n",
    "columns_to_convert = ['telecom_partner', 'gender', 'state', 'city']\n",
    "churn_df[columns_to_convert] = churn_df[columns_to_convert].apply(lambda col: col.astype('category'))\n",
    "churn_df.info()"
   ]
  },
  {
   "cell_type": "code",
   "execution_count": 14,
   "id": "cb26380f",
   "metadata": {},
   "outputs": [],
   "source": [
    "import matplotlib.pyplot as plt\n",
    "import seaborn as sns"
   ]
  },
  {
   "cell_type": "code",
   "execution_count": null,
   "id": "058b363c",
   "metadata": {},
   "outputs": [],
   "source": []
  }
 ],
 "metadata": {
  "colab": {
   "name": "Welcome to DataCamp Workspaces.ipynb",
   "provenance": []
  },
  "kernelspec": {
   "display_name": "Python 3",
   "language": "python",
   "name": "python3"
  },
  "language_info": {
   "codemirror_mode": {
    "name": "ipython",
    "version": 3
   },
   "file_extension": ".py",
   "mimetype": "text/x-python",
   "name": "python",
   "nbconvert_exporter": "python",
   "pygments_lexer": "ipython3",
   "version": "3.12.8"
  }
 },
 "nbformat": 4,
 "nbformat_minor": 5
}
