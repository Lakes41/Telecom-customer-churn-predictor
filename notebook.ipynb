{
 "cells": [
  {
   "cell_type": "markdown",
   "id": "cdd466f9-a72a-44df-9e00-6926a97a4923",
   "metadata": {},
   "source": [
    "![Cartoon of telecom customers](IMG_8811.png)\n"
   ]
  },
  {
   "cell_type": "markdown",
   "id": "dafa483a-e084-4ba8-9236-5c0468364e0d",
   "metadata": {},
   "source": [
    "The telecommunications (telecom) sector in India is rapidly changing, with more and more telecom businesses being created and many customers deciding to switch between providers. \"Churn\" refers to the process where customers or subscribers stop using a company's services or products. Understanding the factors that influence keeping a customer as a client in predicting churn is crucial for telecom companies to enhance their service quality and customer satisfaction. As the data scientist on this project, you aim to explore the intricate dynamics of customer behavior and demographics in the Indian telecom sector in predicting customer churn, utilizing two comprehensive datasets from four major telecom partners: Airtel, Reliance Jio, Vodafone, and BSNL:\n",
    "\n",
    "- `telecom_demographics.csv` contains information related to Indian customer demographics:\n",
    "\n",
    "| Variable             | Description                                      |\n",
    "|----------------------|--------------------------------------------------|\n",
    "| `customer_id `         | Unique identifier for each customer.             |\n",
    "| `telecom_partner `     | The telecom partner associated with the customer.|\n",
    "| `gender `              | The gender of the customer.                      |\n",
    "| `age `                 | The age of the customer.                         |\n",
    "| `state`                | The Indian state in which the customer is located.|\n",
    "| `city`                 | The city in which the customer is located.       |\n",
    "| `pincode`              | The pincode of the customer's location.          |\n",
    "| `registration_event` | When the customer registered with the telecom partner.|\n",
    "| `num_dependents`      | The number of dependents (e.g., children) the customer has.|\n",
    "| `estimated_salary`     | The customer's estimated salary.                 |\n",
    "\n",
    "- `telecom_usage` contains information about the usage patterns of Indian customers:\n",
    "\n",
    "| Variable   | Description                                                  |\n",
    "|------------|--------------------------------------------------------------|\n",
    "| `customer_id` | Unique identifier for each customer.                         |\n",
    "| `calls_made` | The number of calls made by the customer.                    |\n",
    "| `sms_sent`   | The number of SMS messages sent by the customer.             |\n",
    "| `data_used`  | The amount of data used by the customer.                     |\n",
    "| `churn`    | Binary variable indicating whether the customer has churned or not (1 = churned, 0 = not churned).|\n"
   ]
  },
  {
   "cell_type": "code",
   "execution_count": 108,
   "id": "95efd3c7-a48a-49c2-9df6-36f078de3b38",
   "metadata": {
    "executionCancelledAt": null,
    "executionTime": 9,
    "lastExecutedAt": 1699920392111,
    "lastScheduledRunId": null,
    "lastSuccessfullyExecutedCode": "# Import required libraries and methods/functions\nimport pandas as pd\nfrom sklearn.preprocessing import StandardScaler\nfrom sklearn.model_selection import train_test_split\nfrom sklearn.linear_model import RidgeClassifier\nfrom sklearn.ensemble import RandomForestClassifier\nfrom sklearn.metrics import classification_report, confusion_matrix\n\n# Start your code here!"
   },
   "outputs": [],
   "source": [
    "# Importing libraries and methods/functions\n",
    "import pandas as pd\n",
    "import numpy as np\n",
    "from sklearn.preprocessing import StandardScaler, OneHotEncoder \n",
    "from sklearn.model_selection import train_test_split\n",
    "from sklearn.linear_model import RidgeClassifier\n",
    "from sklearn.ensemble import RandomForestClassifier\n",
    "from sklearn.metrics import classification_report, confusion_matrix"
   ]
  },
  {
   "cell_type": "markdown",
   "id": "8a03ee6c",
   "metadata": {},
   "source": [
    "## Data Validation"
   ]
  },
  {
   "cell_type": "code",
   "execution_count": 80,
   "id": "1f03a985",
   "metadata": {},
   "outputs": [
    {
     "name": "stdout",
     "output_type": "stream",
     "text": [
      "   customer_id telecom_partner gender  age             state       city  \\\n",
      "0        15169          Airtel      F   26  Himachal Pradesh      Delhi   \n",
      "1       149207          Airtel      F   74       Uttarakhand  Hyderabad   \n",
      "2       148119          Airtel      F   54         Jharkhand    Chennai   \n",
      "3       187288    Reliance Jio      M   29             Bihar  Hyderabad   \n",
      "4        14016        Vodafone      M   45          Nagaland  Bangalore   \n",
      "\n",
      "   pincode registration_event  num_dependents  estimated_salary  \n",
      "0   667173         2020-03-16               4             85979  \n",
      "1   313997         2022-01-16               0             69445  \n",
      "2   549925         2022-01-11               2             75949  \n",
      "3   230636         2022-07-26               3             34272  \n",
      "4   188036         2020-03-11               4             34157  \n"
     ]
    }
   ],
   "source": [
    "telecom_demo = pd.read_csv('telecom_demographics.csv')\n",
    "print(telecom_demo.head())"
   ]
  },
  {
   "cell_type": "code",
   "execution_count": 81,
   "id": "3bb0fd61",
   "metadata": {},
   "outputs": [
    {
     "name": "stdout",
     "output_type": "stream",
     "text": [
      "<class 'pandas.core.frame.DataFrame'>\n",
      "RangeIndex: 6500 entries, 0 to 6499\n",
      "Data columns (total 10 columns):\n",
      " #   Column              Non-Null Count  Dtype \n",
      "---  ------              --------------  ----- \n",
      " 0   customer_id         6500 non-null   int64 \n",
      " 1   telecom_partner     6500 non-null   object\n",
      " 2   gender              6500 non-null   object\n",
      " 3   age                 6500 non-null   int64 \n",
      " 4   state               6500 non-null   object\n",
      " 5   city                6500 non-null   object\n",
      " 6   pincode             6500 non-null   int64 \n",
      " 7   registration_event  6500 non-null   object\n",
      " 8   num_dependents      6500 non-null   int64 \n",
      " 9   estimated_salary    6500 non-null   int64 \n",
      "dtypes: int64(5), object(5)\n",
      "memory usage: 507.9+ KB\n"
     ]
    }
   ],
   "source": [
    "telecom_demo.info()"
   ]
  },
  {
   "cell_type": "code",
   "execution_count": 82,
   "id": "837331a0",
   "metadata": {},
   "outputs": [
    {
     "name": "stdout",
     "output_type": "stream",
     "text": [
      "   customer_id  calls_made  sms_sent  data_used  churn\n",
      "0        15169          75        21       4532      1\n",
      "1       149207          35        38        723      1\n",
      "2       148119          70        47       4688      1\n",
      "3       187288          95        32      10241      1\n",
      "4        14016          66        23       5246      1\n"
     ]
    }
   ],
   "source": [
    "telecom_usage = pd.read_csv('telecom_usage.csv')\n",
    "print(telecom_usage.head())"
   ]
  },
  {
   "cell_type": "code",
   "execution_count": 83,
   "id": "9ca362de",
   "metadata": {},
   "outputs": [
    {
     "name": "stdout",
     "output_type": "stream",
     "text": [
      "<class 'pandas.core.frame.DataFrame'>\n",
      "RangeIndex: 6500 entries, 0 to 6499\n",
      "Data columns (total 5 columns):\n",
      " #   Column       Non-Null Count  Dtype\n",
      "---  ------       --------------  -----\n",
      " 0   customer_id  6500 non-null   int64\n",
      " 1   calls_made   6500 non-null   int64\n",
      " 2   sms_sent     6500 non-null   int64\n",
      " 3   data_used    6500 non-null   int64\n",
      " 4   churn        6500 non-null   int64\n",
      "dtypes: int64(5)\n",
      "memory usage: 254.0 KB\n"
     ]
    }
   ],
   "source": [
    "telecom_usage.info()"
   ]
  },
  {
   "cell_type": "code",
   "execution_count": 84,
   "id": "7100f428",
   "metadata": {},
   "outputs": [
    {
     "name": "stdout",
     "output_type": "stream",
     "text": [
      "   customer_id telecom_partner gender  age             state       city  \\\n",
      "0        15169          Airtel      F   26  Himachal Pradesh      Delhi   \n",
      "1       149207          Airtel      F   74       Uttarakhand  Hyderabad   \n",
      "2       148119          Airtel      F   54         Jharkhand    Chennai   \n",
      "3       187288    Reliance Jio      M   29             Bihar  Hyderabad   \n",
      "4        14016        Vodafone      M   45          Nagaland  Bangalore   \n",
      "\n",
      "   pincode registration_event  num_dependents  estimated_salary  calls_made  \\\n",
      "0   667173         2020-03-16               4             85979          75   \n",
      "1   313997         2022-01-16               0             69445          35   \n",
      "2   549925         2022-01-11               2             75949          70   \n",
      "3   230636         2022-07-26               3             34272          95   \n",
      "4   188036         2020-03-11               4             34157          66   \n",
      "\n",
      "   sms_sent  data_used  churn  \n",
      "0        21       4532      1  \n",
      "1        38        723      1  \n",
      "2        47       4688      1  \n",
      "3        32      10241      1  \n",
      "4        23       5246      1  \n"
     ]
    }
   ],
   "source": [
    "churn_df = pd.merge(telecom_demo, telecom_usage, on='customer_id')\n",
    "print(churn_df.head())"
   ]
  },
  {
   "cell_type": "code",
   "execution_count": 85,
   "id": "783fa19c",
   "metadata": {},
   "outputs": [
    {
     "data": {
      "text/plain": [
       "count      6500.000000\n",
       "mean      85529.193385\n",
       "std       37545.639180\n",
       "min       20001.000000\n",
       "25%       52905.000000\n",
       "50%       85286.500000\n",
       "75%      118817.500000\n",
       "max      149977.000000\n",
       "Name: estimated_salary, dtype: float64"
      ]
     },
     "execution_count": 85,
     "metadata": {},
     "output_type": "execute_result"
    }
   ],
   "source": [
    "# Handling estimated salary column\n",
    "churn_df['estimated_salary'].describe()"
   ]
  },
  {
   "cell_type": "code",
   "execution_count": 86,
   "id": "25d5cdd3",
   "metadata": {},
   "outputs": [],
   "source": [
    "# grouping estimated salary into bins\n",
    "bins = [0, 30000, 60000, 90000, 120000, 150000]\n",
    "labels = ['Very Low', 'Low', 'Medium', 'High', 'Very High']\n",
    "\n",
    "# Grouping estimated salary into categories\n",
    "churn_df['salary_group'] = pd.cut(churn_df['estimated_salary'], bins=bins, labels=labels)"
   ]
  },
  {
   "cell_type": "code",
   "execution_count": 87,
   "id": "ba6afc91",
   "metadata": {},
   "outputs": [
    {
     "data": {
      "text/plain": [
       "salary_group\n",
       "Very Low      462\n",
       "Low          1516\n",
       "Medium       1519\n",
       "High         1446\n",
       "Very High    1557\n",
       "Name: count, dtype: int64"
      ]
     },
     "execution_count": 87,
     "metadata": {},
     "output_type": "execute_result"
    }
   ],
   "source": [
    "churn_df['salary_group'].value_counts().sort_index()"
   ]
  },
  {
   "cell_type": "code",
   "execution_count": 88,
   "id": "fab723b7",
   "metadata": {},
   "outputs": [
    {
     "name": "stdout",
     "output_type": "stream",
     "text": [
      "<class 'pandas.core.frame.DataFrame'>\n",
      "RangeIndex: 6500 entries, 0 to 6499\n",
      "Data columns (total 15 columns):\n",
      " #   Column              Non-Null Count  Dtype   \n",
      "---  ------              --------------  -----   \n",
      " 0   customer_id         6500 non-null   int64   \n",
      " 1   telecom_partner     6500 non-null   object  \n",
      " 2   gender              6500 non-null   object  \n",
      " 3   age                 6500 non-null   int64   \n",
      " 4   state               6500 non-null   object  \n",
      " 5   city                6500 non-null   object  \n",
      " 6   pincode             6500 non-null   int64   \n",
      " 7   registration_event  6500 non-null   object  \n",
      " 8   num_dependents      6500 non-null   int64   \n",
      " 9   estimated_salary    6500 non-null   int64   \n",
      " 10  calls_made          6500 non-null   int64   \n",
      " 11  sms_sent            6500 non-null   int64   \n",
      " 12  data_used           6500 non-null   int64   \n",
      " 13  churn               6500 non-null   int64   \n",
      " 14  salary_group        6500 non-null   category\n",
      "dtypes: category(1), int64(9), object(5)\n",
      "memory usage: 717.6+ KB\n"
     ]
    }
   ],
   "source": [
    "churn_df.info()"
   ]
  },
  {
   "cell_type": "code",
   "execution_count": 89,
   "id": "4ba619cb",
   "metadata": {},
   "outputs": [
    {
     "name": "stdout",
     "output_type": "stream",
     "text": [
      "<class 'pandas.core.frame.DataFrame'>\n",
      "RangeIndex: 6500 entries, 0 to 6499\n",
      "Data columns (total 15 columns):\n",
      " #   Column              Non-Null Count  Dtype   \n",
      "---  ------              --------------  -----   \n",
      " 0   customer_id         6500 non-null   int64   \n",
      " 1   telecom_partner     6500 non-null   category\n",
      " 2   gender              6500 non-null   category\n",
      " 3   age                 6500 non-null   int64   \n",
      " 4   state               6500 non-null   category\n",
      " 5   city                6500 non-null   category\n",
      " 6   pincode             6500 non-null   int64   \n",
      " 7   registration_event  6500 non-null   object  \n",
      " 8   num_dependents      6500 non-null   int64   \n",
      " 9   estimated_salary    6500 non-null   int64   \n",
      " 10  calls_made          6500 non-null   int64   \n",
      " 11  sms_sent            6500 non-null   int64   \n",
      " 12  data_used           6500 non-null   int64   \n",
      " 13  churn               6500 non-null   int64   \n",
      " 14  salary_group        6500 non-null   category\n",
      "dtypes: category(5), int64(9), object(1)\n",
      "memory usage: 541.7+ KB\n"
     ]
    }
   ],
   "source": [
    "# Identifying categorical variables\n",
    "columns_to_convert = ['telecom_partner', 'gender', 'state', 'city', 'salary_group',]\n",
    "churn_df[columns_to_convert] = churn_df[columns_to_convert].apply(lambda col: col.astype('category'))\n",
    "churn_df.info()"
   ]
  },
  {
   "cell_type": "code",
   "execution_count": null,
   "id": "19c394cc",
   "metadata": {},
   "outputs": [
    {
     "data": {
      "text/plain": [
       "0      2020-03-16\n",
       "1      2022-01-16\n",
       "2      2022-01-11\n",
       "3      2022-07-26\n",
       "4      2020-03-11\n",
       "          ...    \n",
       "6495   2021-01-29\n",
       "6496   2022-01-03\n",
       "6497   2020-07-21\n",
       "6498   2020-11-21\n",
       "6499   2020-10-29\n",
       "Name: registration_event, Length: 6500, dtype: datetime64[ns]"
      ]
     },
     "execution_count": 90,
     "metadata": {},
     "output_type": "execute_result"
    }
   ],
   "source": [
    "#Coverting Date columns to datetime\n",
    "churn_df['registration_event'] = pd.to_datetime(churn_df['registration_event'])\n",
    "churn_df['registration_event']"
   ]
  },
  {
   "cell_type": "code",
   "execution_count": null,
   "id": "b5b674f6",
   "metadata": {},
   "outputs": [
    {
     "data": {
      "text/plain": [
       "month\n",
       "1     630\n",
       "2     584\n",
       "3     679\n",
       "4     643\n",
       "5     519\n",
       "6     509\n",
       "7     491\n",
       "8     481\n",
       "9     486\n",
       "10    532\n",
       "11    459\n",
       "12    487\n",
       "Name: count, dtype: int64"
      ]
     },
     "execution_count": 91,
     "metadata": {},
     "output_type": "execute_result"
    }
   ],
   "source": [
    "#Extracting month from registration_event\n",
    "churn_df['month'] = churn_df['registration_event'].dt.month\n",
    "churn_df['month'] = churn_df['month'].astype('category')\n",
    "churn_df['month'].value_counts().sort_index()"
   ]
  },
  {
   "cell_type": "code",
   "execution_count": 92,
   "id": "621ea701",
   "metadata": {},
   "outputs": [
    {
     "data": {
      "text/plain": [
       "churn\n",
       "0    5197\n",
       "1    1303\n",
       "Name: count, dtype: int64"
      ]
     },
     "execution_count": 92,
     "metadata": {},
     "output_type": "execute_result"
    }
   ],
   "source": [
    "# Identifying the target variable\n",
    "churn_df['churn'].value_counts()"
   ]
  },
  {
   "cell_type": "code",
   "execution_count": 93,
   "id": "e2b762cd",
   "metadata": {},
   "outputs": [],
   "source": [
    "#Renameing the target variable\n",
    "# Mapping dictionary\n",
    "rename_map = {1: 'Churned', 0: 'Not Churned'}\n",
    "\n",
    "# Rename values\n",
    "churn_df['churn'] = churn_df['churn'].replace(rename_map)"
   ]
  },
  {
   "cell_type": "code",
   "execution_count": 94,
   "id": "c6182356",
   "metadata": {},
   "outputs": [
    {
     "data": {
      "text/plain": [
       "churn\n",
       "Not Churned    5197\n",
       "Churned        1303\n",
       "Name: count, dtype: int64"
      ]
     },
     "execution_count": 94,
     "metadata": {},
     "output_type": "execute_result"
    }
   ],
   "source": [
    "churn_df['churn'].astype('category')\n",
    "churn_df['churn'].value_counts()"
   ]
  },
  {
   "cell_type": "code",
   "execution_count": 113,
   "id": "482ebaae",
   "metadata": {},
   "outputs": [
    {
     "data": {
      "text/html": [
       "<div>\n",
       "<style scoped>\n",
       "    .dataframe tbody tr th:only-of-type {\n",
       "        vertical-align: middle;\n",
       "    }\n",
       "\n",
       "    .dataframe tbody tr th {\n",
       "        vertical-align: top;\n",
       "    }\n",
       "\n",
       "    .dataframe thead th {\n",
       "        text-align: right;\n",
       "    }\n",
       "</style>\n",
       "<table border=\"1\" class=\"dataframe\">\n",
       "  <thead>\n",
       "    <tr style=\"text-align: right;\">\n",
       "      <th></th>\n",
       "      <th>calls_made</th>\n",
       "      <th>sms_sent</th>\n",
       "      <th>data_used</th>\n",
       "      <th>num_dependents</th>\n",
       "      <th>age</th>\n",
       "    </tr>\n",
       "  </thead>\n",
       "  <tbody>\n",
       "    <tr>\n",
       "      <th>count</th>\n",
       "      <td>6500.000000</td>\n",
       "      <td>6500.000000</td>\n",
       "      <td>6500.000000</td>\n",
       "      <td>6500.000000</td>\n",
       "      <td>6500.000000</td>\n",
       "    </tr>\n",
       "    <tr>\n",
       "      <th>mean</th>\n",
       "      <td>50.004923</td>\n",
       "      <td>24.372615</td>\n",
       "      <td>5017.830769</td>\n",
       "      <td>1.982308</td>\n",
       "      <td>46.108615</td>\n",
       "    </tr>\n",
       "    <tr>\n",
       "      <th>std</th>\n",
       "      <td>29.436305</td>\n",
       "      <td>14.458974</td>\n",
       "      <td>2911.719571</td>\n",
       "      <td>1.404659</td>\n",
       "      <td>16.443712</td>\n",
       "    </tr>\n",
       "    <tr>\n",
       "      <th>min</th>\n",
       "      <td>0.000000</td>\n",
       "      <td>0.000000</td>\n",
       "      <td>4.000000</td>\n",
       "      <td>0.000000</td>\n",
       "      <td>18.000000</td>\n",
       "    </tr>\n",
       "    <tr>\n",
       "      <th>25%</th>\n",
       "      <td>25.000000</td>\n",
       "      <td>12.000000</td>\n",
       "      <td>2493.750000</td>\n",
       "      <td>1.000000</td>\n",
       "      <td>32.000000</td>\n",
       "    </tr>\n",
       "    <tr>\n",
       "      <th>50%</th>\n",
       "      <td>50.000000</td>\n",
       "      <td>25.000000</td>\n",
       "      <td>4975.500000</td>\n",
       "      <td>2.000000</td>\n",
       "      <td>46.000000</td>\n",
       "    </tr>\n",
       "    <tr>\n",
       "      <th>75%</th>\n",
       "      <td>75.000000</td>\n",
       "      <td>37.000000</td>\n",
       "      <td>7504.250000</td>\n",
       "      <td>3.000000</td>\n",
       "      <td>60.000000</td>\n",
       "    </tr>\n",
       "    <tr>\n",
       "      <th>max</th>\n",
       "      <td>108.000000</td>\n",
       "      <td>53.000000</td>\n",
       "      <td>10919.000000</td>\n",
       "      <td>4.000000</td>\n",
       "      <td>74.000000</td>\n",
       "    </tr>\n",
       "  </tbody>\n",
       "</table>\n",
       "</div>"
      ],
      "text/plain": [
       "        calls_made     sms_sent     data_used  num_dependents          age\n",
       "count  6500.000000  6500.000000   6500.000000     6500.000000  6500.000000\n",
       "mean     50.004923    24.372615   5017.830769        1.982308    46.108615\n",
       "std      29.436305    14.458974   2911.719571        1.404659    16.443712\n",
       "min       0.000000     0.000000      4.000000        0.000000    18.000000\n",
       "25%      25.000000    12.000000   2493.750000        1.000000    32.000000\n",
       "50%      50.000000    25.000000   4975.500000        2.000000    46.000000\n",
       "75%      75.000000    37.000000   7504.250000        3.000000    60.000000\n",
       "max     108.000000    53.000000  10919.000000        4.000000    74.000000"
      ]
     },
     "execution_count": 113,
     "metadata": {},
     "output_type": "execute_result"
    }
   ],
   "source": [
    "churn_df[['calls_made', 'sms_sent','data_used','num_dependents', 'age']].describe()"
   ]
  },
  {
   "cell_type": "code",
   "execution_count": null,
   "id": "f2203aa1",
   "metadata": {},
   "outputs": [
    {
     "data": {
      "text/html": [
       "<div>\n",
       "<style scoped>\n",
       "    .dataframe tbody tr th:only-of-type {\n",
       "        vertical-align: middle;\n",
       "    }\n",
       "\n",
       "    .dataframe tbody tr th {\n",
       "        vertical-align: top;\n",
       "    }\n",
       "\n",
       "    .dataframe thead th {\n",
       "        text-align: right;\n",
       "    }\n",
       "</style>\n",
       "<table border=\"1\" class=\"dataframe\">\n",
       "  <thead>\n",
       "    <tr style=\"text-align: right;\">\n",
       "      <th></th>\n",
       "      <th>calls_made</th>\n",
       "      <th>sms_sent</th>\n",
       "      <th>data_used</th>\n",
       "      <th>num_dependents</th>\n",
       "    </tr>\n",
       "  </thead>\n",
       "  <tbody>\n",
       "    <tr>\n",
       "      <th>count</th>\n",
       "      <td>6500.000000</td>\n",
       "      <td>6500.000000</td>\n",
       "      <td>6500.000000</td>\n",
       "      <td>6500.000000</td>\n",
       "    </tr>\n",
       "    <tr>\n",
       "      <th>mean</th>\n",
       "      <td>50.004923</td>\n",
       "      <td>24.372615</td>\n",
       "      <td>5017.830769</td>\n",
       "      <td>1.982308</td>\n",
       "    </tr>\n",
       "    <tr>\n",
       "      <th>std</th>\n",
       "      <td>29.436305</td>\n",
       "      <td>14.458974</td>\n",
       "      <td>2911.719571</td>\n",
       "      <td>1.404659</td>\n",
       "    </tr>\n",
       "    <tr>\n",
       "      <th>min</th>\n",
       "      <td>0.000000</td>\n",
       "      <td>0.000000</td>\n",
       "      <td>4.000000</td>\n",
       "      <td>0.000000</td>\n",
       "    </tr>\n",
       "    <tr>\n",
       "      <th>25%</th>\n",
       "      <td>25.000000</td>\n",
       "      <td>12.000000</td>\n",
       "      <td>2493.750000</td>\n",
       "      <td>1.000000</td>\n",
       "    </tr>\n",
       "    <tr>\n",
       "      <th>50%</th>\n",
       "      <td>50.000000</td>\n",
       "      <td>25.000000</td>\n",
       "      <td>4975.500000</td>\n",
       "      <td>2.000000</td>\n",
       "    </tr>\n",
       "    <tr>\n",
       "      <th>75%</th>\n",
       "      <td>75.000000</td>\n",
       "      <td>37.000000</td>\n",
       "      <td>7504.250000</td>\n",
       "      <td>3.000000</td>\n",
       "    </tr>\n",
       "    <tr>\n",
       "      <th>max</th>\n",
       "      <td>108.000000</td>\n",
       "      <td>53.000000</td>\n",
       "      <td>10919.000000</td>\n",
       "      <td>4.000000</td>\n",
       "    </tr>\n",
       "  </tbody>\n",
       "</table>\n",
       "</div>"
      ],
      "text/plain": [
       "        calls_made     sms_sent     data_used  num_dependents\n",
       "count  6500.000000  6500.000000   6500.000000     6500.000000\n",
       "mean     50.004923    24.372615   5017.830769        1.982308\n",
       "std      29.436305    14.458974   2911.719571        1.404659\n",
       "min       0.000000     0.000000      4.000000        0.000000\n",
       "25%      25.000000    12.000000   2493.750000        1.000000\n",
       "50%      50.000000    25.000000   4975.500000        2.000000\n",
       "75%      75.000000    37.000000   7504.250000        3.000000\n",
       "max     108.000000    53.000000  10919.000000        4.000000"
      ]
     },
     "execution_count": 109,
     "metadata": {},
     "output_type": "execute_result"
    }
   ],
   "source": [
    "#Does not make sense to have negative values for these columns\n",
    "churn_df[['calls_made', 'sms_sent','data_used','num_dependents']] = churn_df[['calls_made', 'sms_sent','data_used','num_dependents']].apply(np.abs)\n",
    "churn_df[['calls_made', 'sms_sent','data_used','num_dependents']].describe()"
   ]
  },
  {
   "cell_type": "code",
   "execution_count": null,
   "id": "e0334cd5",
   "metadata": {},
   "outputs": [],
   "source": [
    "churn_df.drop(columns=['estimated_salary', 'registration_event', 'customer_id', 'pincode'], inplace=True)"
   ]
  },
  {
   "cell_type": "code",
   "execution_count": null,
   "id": "70fc64a7",
   "metadata": {},
   "outputs": [
    {
     "data": {
      "text/html": [
       "<div>\n",
       "<style scoped>\n",
       "    .dataframe tbody tr th:only-of-type {\n",
       "        vertical-align: middle;\n",
       "    }\n",
       "\n",
       "    .dataframe tbody tr th {\n",
       "        vertical-align: top;\n",
       "    }\n",
       "\n",
       "    .dataframe thead th {\n",
       "        text-align: right;\n",
       "    }\n",
       "</style>\n",
       "<table border=\"1\" class=\"dataframe\">\n",
       "  <thead>\n",
       "    <tr style=\"text-align: right;\">\n",
       "      <th></th>\n",
       "      <th>telecom_partner</th>\n",
       "      <th>gender</th>\n",
       "      <th>age</th>\n",
       "      <th>state</th>\n",
       "      <th>city</th>\n",
       "      <th>num_dependents</th>\n",
       "      <th>calls_made</th>\n",
       "      <th>sms_sent</th>\n",
       "      <th>data_used</th>\n",
       "      <th>churn</th>\n",
       "      <th>salary_group</th>\n",
       "      <th>month</th>\n",
       "    </tr>\n",
       "  </thead>\n",
       "  <tbody>\n",
       "    <tr>\n",
       "      <th>0</th>\n",
       "      <td>Airtel</td>\n",
       "      <td>F</td>\n",
       "      <td>26</td>\n",
       "      <td>Himachal Pradesh</td>\n",
       "      <td>Delhi</td>\n",
       "      <td>4</td>\n",
       "      <td>75</td>\n",
       "      <td>21</td>\n",
       "      <td>4532</td>\n",
       "      <td>Churned</td>\n",
       "      <td>Medium</td>\n",
       "      <td>3</td>\n",
       "    </tr>\n",
       "    <tr>\n",
       "      <th>1</th>\n",
       "      <td>Airtel</td>\n",
       "      <td>F</td>\n",
       "      <td>74</td>\n",
       "      <td>Uttarakhand</td>\n",
       "      <td>Hyderabad</td>\n",
       "      <td>0</td>\n",
       "      <td>35</td>\n",
       "      <td>38</td>\n",
       "      <td>723</td>\n",
       "      <td>Churned</td>\n",
       "      <td>Medium</td>\n",
       "      <td>1</td>\n",
       "    </tr>\n",
       "    <tr>\n",
       "      <th>2</th>\n",
       "      <td>Airtel</td>\n",
       "      <td>F</td>\n",
       "      <td>54</td>\n",
       "      <td>Jharkhand</td>\n",
       "      <td>Chennai</td>\n",
       "      <td>2</td>\n",
       "      <td>70</td>\n",
       "      <td>47</td>\n",
       "      <td>4688</td>\n",
       "      <td>Churned</td>\n",
       "      <td>Medium</td>\n",
       "      <td>1</td>\n",
       "    </tr>\n",
       "    <tr>\n",
       "      <th>3</th>\n",
       "      <td>Reliance Jio</td>\n",
       "      <td>M</td>\n",
       "      <td>29</td>\n",
       "      <td>Bihar</td>\n",
       "      <td>Hyderabad</td>\n",
       "      <td>3</td>\n",
       "      <td>95</td>\n",
       "      <td>32</td>\n",
       "      <td>10241</td>\n",
       "      <td>Churned</td>\n",
       "      <td>Low</td>\n",
       "      <td>7</td>\n",
       "    </tr>\n",
       "    <tr>\n",
       "      <th>4</th>\n",
       "      <td>Vodafone</td>\n",
       "      <td>M</td>\n",
       "      <td>45</td>\n",
       "      <td>Nagaland</td>\n",
       "      <td>Bangalore</td>\n",
       "      <td>4</td>\n",
       "      <td>66</td>\n",
       "      <td>23</td>\n",
       "      <td>5246</td>\n",
       "      <td>Churned</td>\n",
       "      <td>Low</td>\n",
       "      <td>3</td>\n",
       "    </tr>\n",
       "    <tr>\n",
       "      <th>5</th>\n",
       "      <td>BSNL</td>\n",
       "      <td>M</td>\n",
       "      <td>69</td>\n",
       "      <td>West Bengal</td>\n",
       "      <td>Delhi</td>\n",
       "      <td>4</td>\n",
       "      <td>65</td>\n",
       "      <td>18</td>\n",
       "      <td>5961</td>\n",
       "      <td>Churned</td>\n",
       "      <td>High</td>\n",
       "      <td>2</td>\n",
       "    </tr>\n",
       "    <tr>\n",
       "      <th>6</th>\n",
       "      <td>Reliance Jio</td>\n",
       "      <td>M</td>\n",
       "      <td>34</td>\n",
       "      <td>Punjab</td>\n",
       "      <td>Chennai</td>\n",
       "      <td>3</td>\n",
       "      <td>16</td>\n",
       "      <td>17</td>\n",
       "      <td>5732</td>\n",
       "      <td>Churned</td>\n",
       "      <td>Very High</td>\n",
       "      <td>3</td>\n",
       "    </tr>\n",
       "    <tr>\n",
       "      <th>7</th>\n",
       "      <td>BSNL</td>\n",
       "      <td>F</td>\n",
       "      <td>55</td>\n",
       "      <td>Arunachal Pradesh</td>\n",
       "      <td>Chennai</td>\n",
       "      <td>2</td>\n",
       "      <td>45</td>\n",
       "      <td>2</td>\n",
       "      <td>531</td>\n",
       "      <td>Churned</td>\n",
       "      <td>Low</td>\n",
       "      <td>8</td>\n",
       "    </tr>\n",
       "    <tr>\n",
       "      <th>8</th>\n",
       "      <td>Airtel</td>\n",
       "      <td>F</td>\n",
       "      <td>50</td>\n",
       "      <td>Maharashtra</td>\n",
       "      <td>Hyderabad</td>\n",
       "      <td>3</td>\n",
       "      <td>4</td>\n",
       "      <td>51</td>\n",
       "      <td>8292</td>\n",
       "      <td>Churned</td>\n",
       "      <td>Low</td>\n",
       "      <td>8</td>\n",
       "    </tr>\n",
       "    <tr>\n",
       "      <th>9</th>\n",
       "      <td>BSNL</td>\n",
       "      <td>M</td>\n",
       "      <td>38</td>\n",
       "      <td>Odisha</td>\n",
       "      <td>Kolkata</td>\n",
       "      <td>4</td>\n",
       "      <td>22</td>\n",
       "      <td>36</td>\n",
       "      <td>6726</td>\n",
       "      <td>Churned</td>\n",
       "      <td>High</td>\n",
       "      <td>2</td>\n",
       "    </tr>\n",
       "  </tbody>\n",
       "</table>\n",
       "</div>"
      ],
      "text/plain": [
       "  telecom_partner gender  age              state       city  num_dependents  \\\n",
       "0          Airtel      F   26   Himachal Pradesh      Delhi               4   \n",
       "1          Airtel      F   74        Uttarakhand  Hyderabad               0   \n",
       "2          Airtel      F   54          Jharkhand    Chennai               2   \n",
       "3    Reliance Jio      M   29              Bihar  Hyderabad               3   \n",
       "4        Vodafone      M   45           Nagaland  Bangalore               4   \n",
       "5            BSNL      M   69        West Bengal      Delhi               4   \n",
       "6    Reliance Jio      M   34             Punjab    Chennai               3   \n",
       "7            BSNL      F   55  Arunachal Pradesh    Chennai               2   \n",
       "8          Airtel      F   50        Maharashtra  Hyderabad               3   \n",
       "9            BSNL      M   38             Odisha    Kolkata               4   \n",
       "\n",
       "   calls_made  sms_sent  data_used    churn salary_group month  \n",
       "0          75        21       4532  Churned       Medium     3  \n",
       "1          35        38        723  Churned       Medium     1  \n",
       "2          70        47       4688  Churned       Medium     1  \n",
       "3          95        32      10241  Churned          Low     7  \n",
       "4          66        23       5246  Churned          Low     3  \n",
       "5          65        18       5961  Churned         High     2  \n",
       "6          16        17       5732  Churned    Very High     3  \n",
       "7          45         2        531  Churned          Low     8  \n",
       "8           4        51       8292  Churned          Low     8  \n",
       "9          22        36       6726  Churned         High     2  "
      ]
     },
     "execution_count": 111,
     "metadata": {},
     "output_type": "execute_result"
    }
   ],
   "source": [
    "churn_df.head(10)"
   ]
  },
  {
   "cell_type": "markdown",
   "id": "bf728b2a",
   "metadata": {},
   "source": [
    "## Explanatory Analysis"
   ]
  },
  {
   "cell_type": "markdown",
   "id": "a1bddfe7",
   "metadata": {},
   "source": [
    "### Target Variable"
   ]
  },
  {
   "cell_type": "code",
   "execution_count": 112,
   "id": "0fd00453",
   "metadata": {},
   "outputs": [
    {
     "data": {
      "text/plain": [
       "<Axes: xlabel='churn', ylabel='count'>"
      ]
     },
     "execution_count": 112,
     "metadata": {},
     "output_type": "execute_result"
    },
    {
     "data": {
      "image/png": "[encoded data removed]",
      "text/plain": [
       "<Figure size 640x480 with 1 Axes>"
      ]
     },
     "metadata": {},
     "output_type": "display_data"
    }
   ],
   "source": [
    "import matplotlib.pyplot as plt\n",
    "import seaborn as sns\n",
    "\n",
    "sns.countplot(x='churn', data=churn_df, hue ='churn')"
   ]
  },
  {
   "cell_type": "code",
   "execution_count": 96,
   "id": "91009edd",
   "metadata": {},
   "outputs": [
    {
     "name": "stdout",
     "output_type": "stream",
     "text": [
      "The Churn Rate is 20.0%\n"
     ]
    }
   ],
   "source": [
    "# Determining Churn Rate\n",
    "churn_rate = round(churn_df['churn'].value_counts(normalize=True) * 100, 1)\n",
    "print(f\"The Churn Rate is {churn_rate.iloc[1]:.1f}%\")"
   ]
  },
  {
   "cell_type": "markdown",
   "id": "656a07fb",
   "metadata": {},
   "source": [
    "### Numeric variables"
   ]
  },
  {
   "cell_type": "code",
   "execution_count": 115,
   "id": "b83e77c2",
   "metadata": {},
   "outputs": [
    {
     "data": {
      "image/png": "[encoded data removed]",
      "text/plain": [
       "<Figure size 1000x800 with 2 Axes>"
      ]
     },
     "metadata": {},
     "output_type": "display_data"
    }
   ],
   "source": [
    "# Selecting only the numerical features\n",
    "numerical_features = churn_df[['age', 'num_dependents', 'sms_sent', 'calls_made', 'data_used' ]]\n",
    "\n",
    "# Calculating the correlation matrix\n",
    "correlation_matrix = numerical_features.corr()\n",
    "\n",
    "# Creating a heatmap\n",
    "plt.figure(figsize=(10, 8))\n",
    "sns.heatmap(correlation_matrix, annot=True, cmap='coolwarm', fmt=\".2f\", linewidths=.5)\n",
    "plt.title('Correlation Heatmap of Numerical Features')\n",
    "plt.show()"
   ]
  },
  {
   "cell_type": "code",
   "execution_count": 118,
   "id": "852af7ac",
   "metadata": {},
   "outputs": [
    {
     "data": {
      "image/png": "[encoded data removed]",
      "text/plain": [
       "<Figure size 1500x500 with 3 Axes>"
      ]
     },
     "metadata": {},
     "output_type": "display_data"
    }
   ],
   "source": [
    "fig, axes = plt.subplots(1,3,figsize=(15,5))\n",
    "\n",
    "sns.scatterplot(y=churn_df['churn'], x=churn_df['age'], color='gray', ax=axes[0]).set(title='churn vs age')\n",
    "sns.scatterplot(y=churn_df['churn'], x=churn_df['num_dependents'], color='gray', ax=axes[1]).set(title='churn vs num_dependents')\n",
    "sns.scatterplot(y=churn_df['churn'], x=churn_df['calls_made'], color='gray', ax=axes[2]).set(title='churn vs calls_made')\n",
    "\n",
    "plt.tight_layout()\n",
    "plt.show()"
   ]
  },
  {
   "cell_type": "code",
   "execution_count": 119,
   "id": "0544c908",
   "metadata": {},
   "outputs": [
    {
     "data": {
      "image/png": "[encoded data removed]",
      "text/plain": [
       "<Figure size 1500x500 with 2 Axes>"
      ]
     },
     "metadata": {},
     "output_type": "display_data"
    }
   ],
   "source": [
    "fig, axes = plt.subplots(1,2,figsize=(15,5))\n",
    "\n",
    "sns.scatterplot(y=churn_df['churn'], x=churn_df['sms_sent'], color='gray', ax=axes[0]).set(title='Churn vs Sms sent')\n",
    "sns.scatterplot(y=churn_df['churn'], x=churn_df['data_used'], color='gray', ax=axes[1]).set(title='Churn vs Data Used')\n",
    "\n",
    "plt.tight_layout()\n",
    "plt.show()"
   ]
  },
  {
   "cell_type": "markdown",
   "id": "84faebdc",
   "metadata": {},
   "source": [
    "### Categorical Variables"
   ]
  },
  {
   "cell_type": "code",
   "execution_count": null,
   "id": "678a5bc6",
   "metadata": {},
   "outputs": [],
   "source": []
  }
 ],
 "metadata": {
  "colab": {
   "name": "Welcome to DataCamp Workspaces.ipynb",
   "provenance": []
  },
  "kernelspec": {
   "display_name": "Python 3",
   "language": "python",
   "name": "python3"
  },
  "language_info": {
   "codemirror_mode": {
    "name": "ipython",
    "version": 3
   },
   "file_extension": ".py",
   "mimetype": "text/x-python",
   "name": "python",
   "nbconvert_exporter": "python",
   "pygments_lexer": "ipython3",
   "version": "3.12.8"
  }
 },
 "nbformat": 4,
 "nbformat_minor": 5
}
